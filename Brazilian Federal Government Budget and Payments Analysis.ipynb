{
 "cells": [
  {
   "cell_type": "markdown",
   "metadata": {},
   "source": [
    "# Brazilian Federal Government Budget and Payments Analysis\n",
    "\n",
    "## Project Summary\n",
    "The goal of this project is to analyze the federal expenses data related to February 2021 and connect this information to the companies registration data and also the federal budget for the year. With this data it is possible to have an overview of the destination of the federal resources."
   ]
  },
  {
   "cell_type": "code",
   "execution_count": 1,
   "metadata": {},
   "outputs": [],
   "source": [
    "import pandas as pd\n",
    "import requests\n",
    "import os\n",
    "import zipfile"
   ]
  },
  {
   "cell_type": "code",
   "execution_count": 2,
   "metadata": {},
   "outputs": [],
   "source": [
    "# Suppress cientific notation\n",
    "pd.options.display.float_format = '{:,.2f}'.format\n",
    "\n",
    "# Create dir. structure\n",
    "tmp_dir = '/home/workspace/tmp/'\n",
    "csv_dir = '/home/workspace/csv/'\n",
    "\n",
    "for directory in [tmp_dir, csv_dir]: \n",
    "    if not os.path.exists(directory): \n",
    "        os.makedirs(directory)"
   ]
  },
  {
   "cell_type": "markdown",
   "metadata": {},
   "source": [
    "## Project scope and data \n",
    "\n",
    "This project uses public data made available by the federal government. With this data, it is possible to:\n",
    "1. Understand how the federal payments are distributed amoung the states\n",
    "2. Understand which governmental departments use the majority of the federal resources \n",
    "3. Understand what is the main comercial activity that receive most of the federal resources (i.e., which companies receive most payments and what those companies do)\n",
    "\n",
    "Data extracted from:\n",
    "1. Federal payments data (available in zipped csv files): http://portaldatransparencia.gov.br/download-de-dados/despesas-favorecidos/\n",
    "2. Companies registry data (available in zipped csv files): http://portaldatransparencia.gov.br/download-de-dados/favorecidos-pj/202102\n",
    "3. Federal budget data (available in zipped csv files): http://portaldatransparencia.gov.br/download-de-dados/orcamento-despesa/2021"
   ]
  },
  {
   "cell_type": "code",
   "execution_count": 3,
   "metadata": {},
   "outputs": [
    {
     "name": "stdout",
     "output_type": "stream",
     "text": [
      "Downloading data from http://portaldatransparencia.gov.br/download-de-dados/despesas-favorecidos/202102 to /home/workspace/tmp/payments_data.zip... Done\n",
      "Downloading data from http://portaldatransparencia.gov.br/download-de-dados/favorecidos-pj/202102 to /home/workspace/tmp/companies_data.zip... Done\n",
      "Downloading data from http://portaldatransparencia.gov.br/download-de-dados/orcamento-despesa/2021 to /home/workspace/tmp/budget_data.zip... Done\n"
     ]
    }
   ],
   "source": [
    "# Download data from URLs\n",
    "\n",
    "payments_data_url = 'http://portaldatransparencia.gov.br/download-de-dados/despesas-favorecidos/202102'\n",
    "companies_data_url = 'http://portaldatransparencia.gov.br/download-de-dados/favorecidos-pj/202102'\n",
    "budget_data_url = 'http://portaldatransparencia.gov.br/download-de-dados/orcamento-despesa/2021'\n",
    "\n",
    "url_zip_dict = {payments_data_url: 'payments_data.zip', \n",
    "                companies_data_url: 'companies_data.zip',\n",
    "                budget_data_url: 'budget_data.zip'}\n",
    "\n",
    "for url in url_zip_dict:\n",
    "    zip_file = os.path.join(tmp_dir, url_zip_dict[url])\n",
    "    print('Downloading data from ' + url + ' to ' + zip_file, end = '... ')\n",
    "    r = requests.get(url)\n",
    "\n",
    "    with open(zip_file, 'wb') as f:\n",
    "        f.write(r.content)\n",
    "\n",
    "    with zipfile.ZipFile(zip_file, 'r') as z:\n",
    "        z.extractall(csv_dir)\n",
    "\n",
    "    print('Done')"
   ]
  },
  {
   "cell_type": "code",
   "execution_count": 4,
   "metadata": {},
   "outputs": [
    {
     "name": "stdout",
     "output_type": "stream",
     "text": [
      "Loaded Budget data into df_budget\n",
      "Loaded CNAE data into df_cnae\n",
      "Loaded Companies data into df_cia\n",
      "Loaded Payments data into df_payments\n"
     ]
    }
   ],
   "source": [
    "# Load data into pandas dataframes\n",
    "\n",
    "for file in os.listdir(csv_dir):\n",
    "    csv_file = os.path.join(csv_dir, file)\n",
    "    df = pd.read_csv(csv_file, encoding = 'latin1', sep = ';', dtype = str)\n",
    "    \n",
    "    if 'orcamento' in csv_file.lower():\n",
    "        df_budget = df\n",
    "        print('Loaded Budget data into df_budget')\n",
    "    elif 'cnae' in csv_file.lower():\n",
    "        df_cnae = df\n",
    "        print('Loaded CNAE data into df_cnae')\n",
    "    elif 'cnpj' in csv_file.lower():\n",
    "        df_cia = df\n",
    "        print('Loaded Companies data into df_cia')\n",
    "    elif 'recebimentos' in csv_file.lower():\n",
    "        df_payments = df\n",
    "        print('Loaded Payments data into df_payments')"
   ]
  },
  {
   "cell_type": "markdown",
   "metadata": {},
   "source": [
    "## Data exploration and cleaning "
   ]
  },
  {
   "cell_type": "code",
   "execution_count": 5,
   "metadata": {},
   "outputs": [
    {
     "name": "stdout",
     "output_type": "stream",
     "text": [
      "<class 'pandas.core.frame.DataFrame'>\n",
      "RangeIndex: 938471 entries, 0 to 938470\n",
      "Data columns (total 13 columns):\n",
      "CNPJ               938471 non-null object\n",
      "RAZAOSOCIAL        912450 non-null object\n",
      "NOMEFANTASIA       584104 non-null object\n",
      "COD_CNAE           938471 non-null object\n",
      "COD_NATJURIDICA    938471 non-null object\n",
      "TIPO_PESSOA        938471 non-null object\n",
      "LOGRADOURO         912450 non-null object\n",
      "NUMERO             911591 non-null object\n",
      "COMPLEMENTO        384113 non-null object\n",
      "CEP                0 non-null object\n",
      "BAIRRO             909532 non-null object\n",
      "MUNICIPIO          938471 non-null object\n",
      "UF                 938471 non-null object\n",
      "dtypes: object(13)\n",
      "memory usage: 93.1+ MB\n"
     ]
    }
   ],
   "source": [
    "# Companies data overview\n",
    "\n",
    "df_cia.info()   \n",
    "# There are some missing data related to the companies addresses -\n",
    "# as this information is not necessary, such null values are not relevant\n",
    "\n",
    "# Remove any registration numbers that are null:\n",
    "df_cia = df_cia.loc[df_cia['CNPJ'].isna() == False]\n",
    "\n",
    "# Remove registration numbers related to foreign companies\n",
    "df_cia = df_cia.loc[~ df_cia['CNPJ'].str.contains('ESTRANG')]\n",
    "\n",
    "# Remove any registration numbers that are not unique:\n",
    "df_cia = df_cia.loc[df_cia['CNPJ'].duplicated(keep = False) == False]"
   ]
  },
  {
   "cell_type": "code",
   "execution_count": 6,
   "metadata": {},
   "outputs": [
    {
     "name": "stdout",
     "output_type": "stream",
     "text": [
      "<class 'pandas.core.frame.DataFrame'>\n",
      "RangeIndex: 1100 entries, 0 to 1099\n",
      "Data columns (total 4 columns):\n",
      "COD_SECAO         1100 non-null object\n",
      "DESC_SECAO        1100 non-null object\n",
      "COD_SUBCLASSE     1100 non-null object\n",
      "DESC_SUBCLASSE    1100 non-null object\n",
      "dtypes: object(4)\n",
      "memory usage: 34.5+ KB\n"
     ]
    }
   ],
   "source": [
    "# Companies' activity data overview\n",
    "\n",
    "df_cnae.info() \n",
    "\n",
    "# Remove any activity codes that are not unique\n",
    "df_cnae = df_cnae.loc[df_cnae['COD_SUBCLASSE'].duplicated(keep = False) == False]"
   ]
  },
  {
   "cell_type": "code",
   "execution_count": 7,
   "metadata": {},
   "outputs": [
    {
     "name": "stdout",
     "output_type": "stream",
     "text": [
      "<class 'pandas.core.frame.DataFrame'>\n",
      "RangeIndex: 24182 entries, 0 to 24181\n",
      "Data columns (total 25 columns):\n",
      "EXERCÍCIO                       24182 non-null object\n",
      "CÓDIGO ÓRGÃO SUPERIOR           24182 non-null object\n",
      "NOME ÓRGÃO SUPERIOR             24182 non-null object\n",
      "CÓDIGO ÓRGÃO SUBORDINADO        24182 non-null object\n",
      "NOME ÓRGÃO SUBORDINADO          24182 non-null object\n",
      "CÓDIGO UNIDADE ORÇAMENTÁRIA     24182 non-null object\n",
      "NOME UNIDADE ORÇAMENTÁRIA       24182 non-null object\n",
      "CÓDIGO FUNÇÃO                   24182 non-null object\n",
      "NOME FUNÇÃO                     24182 non-null object\n",
      "CÓDIGO SUBFUNÇÃO                24182 non-null object\n",
      "NOME SUBFUNÇÃO                  24182 non-null object\n",
      "CÓDIGO PROGRAMA ORÇAMENTÁRIO    24182 non-null object\n",
      "NOME PROGRAMA ORÇAMENTÁRIO      24182 non-null object\n",
      "CÓDIGO AÇÃO                     24182 non-null object\n",
      "NOME AÇÃO                       24182 non-null object\n",
      "CÓDIGO CATEGORIA ECONÔMICA      24182 non-null object\n",
      "NOME CATEGORIA ECONÔMICA        24182 non-null object\n",
      "CÓDIGO GRUPO DE DESPESA         24182 non-null object\n",
      "NOME GRUPO DE DESPESA           24182 non-null object\n",
      "CÓDIGO ELEMENTO DE DESPESA      24182 non-null object\n",
      "NOME ELEMENTO DE DESPESA        24182 non-null object\n",
      "ORÇAMENTO INICIAL (R$)          24182 non-null object\n",
      "ORÇAMENTO ATUALIZADO (R$)       24182 non-null object\n",
      "ORÇAMENTO EMPENHADO (R$)        24182 non-null object\n",
      "ORÇAMENTO REALIZADO (R$)        24182 non-null object\n",
      "dtypes: object(25)\n",
      "memory usage: 4.6+ MB\n"
     ]
    }
   ],
   "source": [
    "# Budget data overview\n",
    "\n",
    "df_budget.info() \n",
    "\n",
    "# Cast money amount column to numeric type\n",
    "df_budget[['ORÇAMENTO ATUALIZADO (R$)']] = df_budget[['ORÇAMENTO ATUALIZADO (R$)']].replace(',', '.', regex = True)\n",
    "df_budget['ORÇAMENTO ATUALIZADO (R$)'] = pd.to_numeric(df_budget['ORÇAMENTO ATUALIZADO (R$)'], errors = 'coerce')"
   ]
  },
  {
   "cell_type": "code",
   "execution_count": 8,
   "metadata": {},
   "outputs": [
    {
     "name": "stdout",
     "output_type": "stream",
     "text": [
      "<class 'pandas.core.frame.DataFrame'>\n",
      "RangeIndex: 655434 entries, 0 to 655433\n",
      "Data columns (total 12 columns):\n",
      "Código Favorecido          655434 non-null object\n",
      "Nome Favorecido            655434 non-null object\n",
      "Sigla UF                   655434 non-null object\n",
      "Nome Município             655434 non-null object\n",
      "Código Órgão Superior      655434 non-null object\n",
      "Nome Órgão Superior        655434 non-null object\n",
      "Código Órgão               655434 non-null object\n",
      "Nome Órgão                 655434 non-null object\n",
      "Código Unidade Gestora     655434 non-null object\n",
      "Nome Unidade Gestora       655434 non-null object\n",
      "Ano e mês do lançamento    655434 non-null object\n",
      "Valor Recebido             655434 non-null object\n",
      "dtypes: object(12)\n",
      "memory usage: 60.0+ MB\n"
     ]
    }
   ],
   "source": [
    "# Payments data overview\n",
    "\n",
    "df_payments.info() \n",
    "\n",
    "# Cast money amount column to numeric type\n",
    "df_payments[['Valor Recebido']] = df_payments[['Valor Recebido']].replace(',', '.', regex = True)\n",
    "df_payments['Valor Recebido'] = pd.to_numeric(df_payments['Valor Recebido'], errors = 'coerce')"
   ]
  },
  {
   "cell_type": "markdown",
   "metadata": {},
   "source": [
    "## Data Model\n",
    "The data model is a star schema with \"Payments\" and \"Budget\" as fact tables and \"Companies Activities\" as a dimension. \n",
    "\n",
    "With this structure it is posible to connect information regarding how much money was allocated in each budget, how much money was spent and which companies were the ones that received most of this money. It is possible to visualize which acitivies such companies perform and also in which state they are.\n",
    "\n",
    "## Data Pipelines\n",
    "The pipeline consists of the data download (performed previously), cleaning (also performed previously) and then a merge of CNAE data to Companies data, to generate one table named Companies Activities with all companies' information. "
   ]
  },
  {
   "cell_type": "code",
   "execution_count": 9,
   "metadata": {},
   "outputs": [
    {
     "data": {
      "text/html": [
       "<div>\n",
       "<style scoped>\n",
       "    .dataframe tbody tr th:only-of-type {\n",
       "        vertical-align: middle;\n",
       "    }\n",
       "\n",
       "    .dataframe tbody tr th {\n",
       "        vertical-align: top;\n",
       "    }\n",
       "\n",
       "    .dataframe thead th {\n",
       "        text-align: right;\n",
       "    }\n",
       "</style>\n",
       "<table border=\"1\" class=\"dataframe\">\n",
       "  <thead>\n",
       "    <tr style=\"text-align: right;\">\n",
       "      <th></th>\n",
       "      <th>CNPJ</th>\n",
       "      <th>RAZAOSOCIAL</th>\n",
       "      <th>COD_CNAE</th>\n",
       "      <th>UF</th>\n",
       "    </tr>\n",
       "  </thead>\n",
       "  <tbody>\n",
       "    <tr>\n",
       "      <th>0</th>\n",
       "      <td>00000000000191</td>\n",
       "      <td>BANCO DO BRASIL SA</td>\n",
       "      <td>6422100</td>\n",
       "      <td>DF</td>\n",
       "    </tr>\n",
       "    <tr>\n",
       "      <th>1</th>\n",
       "      <td>00000000000272</td>\n",
       "      <td>BANCO DO BRASIL SA</td>\n",
       "      <td>6422100</td>\n",
       "      <td>AM</td>\n",
       "    </tr>\n",
       "    <tr>\n",
       "      <th>2</th>\n",
       "      <td>00000000000353</td>\n",
       "      <td>BANCO DO BRASIL SA</td>\n",
       "      <td>6422100</td>\n",
       "      <td>PA</td>\n",
       "    </tr>\n",
       "    <tr>\n",
       "      <th>3</th>\n",
       "      <td>00000000000515</td>\n",
       "      <td>BANCO DO BRASIL SA</td>\n",
       "      <td>6421200</td>\n",
       "      <td>RJ</td>\n",
       "    </tr>\n",
       "    <tr>\n",
       "      <th>4</th>\n",
       "      <td>00000000000604</td>\n",
       "      <td>BANCO DO BRASIL SA</td>\n",
       "      <td>6422100</td>\n",
       "      <td>BA</td>\n",
       "    </tr>\n",
       "  </tbody>\n",
       "</table>\n",
       "</div>"
      ],
      "text/plain": [
       "             CNPJ         RAZAOSOCIAL COD_CNAE  UF\n",
       "0  00000000000191  BANCO DO BRASIL SA  6422100  DF\n",
       "1  00000000000272  BANCO DO BRASIL SA  6422100  AM\n",
       "2  00000000000353  BANCO DO BRASIL SA  6422100  PA\n",
       "3  00000000000515  BANCO DO BRASIL SA  6421200  RJ\n",
       "4  00000000000604  BANCO DO BRASIL SA  6422100  BA"
      ]
     },
     "execution_count": 9,
     "metadata": {},
     "output_type": "execute_result"
    }
   ],
   "source": [
    "# Companies data\n",
    "\n",
    "# Select relevant columns only\n",
    "df_cia = df_cia[['CNPJ', 'RAZAOSOCIAL','COD_CNAE', 'UF']]\n",
    "\n",
    "df_cia.head()"
   ]
  },
  {
   "cell_type": "code",
   "execution_count": 10,
   "metadata": {},
   "outputs": [
    {
     "data": {
      "text/html": [
       "<div>\n",
       "<style scoped>\n",
       "    .dataframe tbody tr th:only-of-type {\n",
       "        vertical-align: middle;\n",
       "    }\n",
       "\n",
       "    .dataframe tbody tr th {\n",
       "        vertical-align: top;\n",
       "    }\n",
       "\n",
       "    .dataframe thead th {\n",
       "        text-align: right;\n",
       "    }\n",
       "</style>\n",
       "<table border=\"1\" class=\"dataframe\">\n",
       "  <thead>\n",
       "    <tr style=\"text-align: right;\">\n",
       "      <th></th>\n",
       "      <th>COD_CNAE</th>\n",
       "      <th>DESC_SECAO</th>\n",
       "      <th>DESC_SUBCLASSE</th>\n",
       "    </tr>\n",
       "  </thead>\n",
       "  <tbody>\n",
       "    <tr>\n",
       "      <th>0</th>\n",
       "      <td>0111301</td>\n",
       "      <td>AGRICULTURA, PECUÁRIA, PRODUÇÃO FLORESTAL, PES...</td>\n",
       "      <td>Cultivo de arroz</td>\n",
       "    </tr>\n",
       "    <tr>\n",
       "      <th>1</th>\n",
       "      <td>0111302</td>\n",
       "      <td>AGRICULTURA, PECUÁRIA, PRODUÇÃO FLORESTAL, PES...</td>\n",
       "      <td>Cultivo de milho</td>\n",
       "    </tr>\n",
       "    <tr>\n",
       "      <th>2</th>\n",
       "      <td>0111399</td>\n",
       "      <td>AGRICULTURA, PECUÁRIA, PRODUÇÃO FLORESTAL, PES...</td>\n",
       "      <td>Cultivo de outros cereais não especificados an...</td>\n",
       "    </tr>\n",
       "    <tr>\n",
       "      <th>3</th>\n",
       "      <td>0112101</td>\n",
       "      <td>AGRICULTURA, PECUÁRIA, PRODUÇÃO FLORESTAL, PES...</td>\n",
       "      <td>Cultivo de algodão herbáceo</td>\n",
       "    </tr>\n",
       "    <tr>\n",
       "      <th>4</th>\n",
       "      <td>0112199</td>\n",
       "      <td>AGRICULTURA, PECUÁRIA, PRODUÇÃO FLORESTAL, PES...</td>\n",
       "      <td>Cultivo de outras fibras de lavoura temporária...</td>\n",
       "    </tr>\n",
       "  </tbody>\n",
       "</table>\n",
       "</div>"
      ],
      "text/plain": [
       "  COD_CNAE                                         DESC_SECAO  \\\n",
       "0  0111301  AGRICULTURA, PECUÁRIA, PRODUÇÃO FLORESTAL, PES...   \n",
       "1  0111302  AGRICULTURA, PECUÁRIA, PRODUÇÃO FLORESTAL, PES...   \n",
       "2  0111399  AGRICULTURA, PECUÁRIA, PRODUÇÃO FLORESTAL, PES...   \n",
       "3  0112101  AGRICULTURA, PECUÁRIA, PRODUÇÃO FLORESTAL, PES...   \n",
       "4  0112199  AGRICULTURA, PECUÁRIA, PRODUÇÃO FLORESTAL, PES...   \n",
       "\n",
       "                                      DESC_SUBCLASSE  \n",
       "0                                   Cultivo de arroz  \n",
       "1                                   Cultivo de milho  \n",
       "2  Cultivo de outros cereais não especificados an...  \n",
       "3                        Cultivo de algodão herbáceo  \n",
       "4  Cultivo de outras fibras de lavoura temporária...  "
      ]
     },
     "execution_count": 10,
     "metadata": {},
     "output_type": "execute_result"
    }
   ],
   "source": [
    "# CNAE (companies' activities) data\n",
    "\n",
    "# Select relevant columns only \n",
    "df_cnae = df_cnae[['COD_SUBCLASSE', 'DESC_SECAO', 'DESC_SUBCLASSE']]\n",
    "df_cnae = df_cnae.rename(columns={'COD_SUBCLASSE': 'COD_CNAE'})\n",
    "\n",
    "df_cnae.head()"
   ]
  },
  {
   "cell_type": "code",
   "execution_count": 11,
   "metadata": {},
   "outputs": [
    {
     "data": {
      "text/html": [
       "<div>\n",
       "<style scoped>\n",
       "    .dataframe tbody tr th:only-of-type {\n",
       "        vertical-align: middle;\n",
       "    }\n",
       "\n",
       "    .dataframe tbody tr th {\n",
       "        vertical-align: top;\n",
       "    }\n",
       "\n",
       "    .dataframe thead th {\n",
       "        text-align: right;\n",
       "    }\n",
       "</style>\n",
       "<table border=\"1\" class=\"dataframe\">\n",
       "  <thead>\n",
       "    <tr style=\"text-align: right;\">\n",
       "      <th></th>\n",
       "      <th>CNPJ</th>\n",
       "      <th>RAZAOSOCIAL</th>\n",
       "      <th>COD_CNAE</th>\n",
       "      <th>UF</th>\n",
       "      <th>DESC_SECAO</th>\n",
       "      <th>DESC_SUBCLASSE</th>\n",
       "    </tr>\n",
       "  </thead>\n",
       "  <tbody>\n",
       "    <tr>\n",
       "      <th>0</th>\n",
       "      <td>00000000000191</td>\n",
       "      <td>BANCO DO BRASIL SA</td>\n",
       "      <td>6422100</td>\n",
       "      <td>DF</td>\n",
       "      <td>ATIVIDADES FINANCEIRAS, DE SEGUROS E SERVIÇOS ...</td>\n",
       "      <td>Bancos múltiplos, com carteira comercial</td>\n",
       "    </tr>\n",
       "    <tr>\n",
       "      <th>1</th>\n",
       "      <td>00000000000272</td>\n",
       "      <td>BANCO DO BRASIL SA</td>\n",
       "      <td>6422100</td>\n",
       "      <td>AM</td>\n",
       "      <td>ATIVIDADES FINANCEIRAS, DE SEGUROS E SERVIÇOS ...</td>\n",
       "      <td>Bancos múltiplos, com carteira comercial</td>\n",
       "    </tr>\n",
       "    <tr>\n",
       "      <th>2</th>\n",
       "      <td>00000000000353</td>\n",
       "      <td>BANCO DO BRASIL SA</td>\n",
       "      <td>6422100</td>\n",
       "      <td>PA</td>\n",
       "      <td>ATIVIDADES FINANCEIRAS, DE SEGUROS E SERVIÇOS ...</td>\n",
       "      <td>Bancos múltiplos, com carteira comercial</td>\n",
       "    </tr>\n",
       "    <tr>\n",
       "      <th>3</th>\n",
       "      <td>00000000000515</td>\n",
       "      <td>BANCO DO BRASIL SA</td>\n",
       "      <td>6421200</td>\n",
       "      <td>RJ</td>\n",
       "      <td>ATIVIDADES FINANCEIRAS, DE SEGUROS E SERVIÇOS ...</td>\n",
       "      <td>Bancos comerciais</td>\n",
       "    </tr>\n",
       "    <tr>\n",
       "      <th>4</th>\n",
       "      <td>00000000000604</td>\n",
       "      <td>BANCO DO BRASIL SA</td>\n",
       "      <td>6422100</td>\n",
       "      <td>BA</td>\n",
       "      <td>ATIVIDADES FINANCEIRAS, DE SEGUROS E SERVIÇOS ...</td>\n",
       "      <td>Bancos múltiplos, com carteira comercial</td>\n",
       "    </tr>\n",
       "  </tbody>\n",
       "</table>\n",
       "</div>"
      ],
      "text/plain": [
       "             CNPJ         RAZAOSOCIAL COD_CNAE  UF  \\\n",
       "0  00000000000191  BANCO DO BRASIL SA  6422100  DF   \n",
       "1  00000000000272  BANCO DO BRASIL SA  6422100  AM   \n",
       "2  00000000000353  BANCO DO BRASIL SA  6422100  PA   \n",
       "3  00000000000515  BANCO DO BRASIL SA  6421200  RJ   \n",
       "4  00000000000604  BANCO DO BRASIL SA  6422100  BA   \n",
       "\n",
       "                                          DESC_SECAO  \\\n",
       "0  ATIVIDADES FINANCEIRAS, DE SEGUROS E SERVIÇOS ...   \n",
       "1  ATIVIDADES FINANCEIRAS, DE SEGUROS E SERVIÇOS ...   \n",
       "2  ATIVIDADES FINANCEIRAS, DE SEGUROS E SERVIÇOS ...   \n",
       "3  ATIVIDADES FINANCEIRAS, DE SEGUROS E SERVIÇOS ...   \n",
       "4  ATIVIDADES FINANCEIRAS, DE SEGUROS E SERVIÇOS ...   \n",
       "\n",
       "                             DESC_SUBCLASSE  \n",
       "0  Bancos múltiplos, com carteira comercial  \n",
       "1  Bancos múltiplos, com carteira comercial  \n",
       "2  Bancos múltiplos, com carteira comercial  \n",
       "3                         Bancos comerciais  \n",
       "4  Bancos múltiplos, com carteira comercial  "
      ]
     },
     "execution_count": 11,
     "metadata": {},
     "output_type": "execute_result"
    }
   ],
   "source": [
    "# Merge Companies and CNAE data\n",
    "\n",
    "df_cia_cnae = pd.merge(df_cia, df_cnae, how = 'left', on = 'COD_CNAE')\n",
    "df_cia_cnae.head()"
   ]
  },
  {
   "cell_type": "code",
   "execution_count": 12,
   "metadata": {
    "jupyter": {
     "source_hidden": true
    }
   },
   "outputs": [
    {
     "data": {
      "text/html": [
       "<div>\n",
       "<style scoped>\n",
       "    .dataframe tbody tr th:only-of-type {\n",
       "        vertical-align: middle;\n",
       "    }\n",
       "\n",
       "    .dataframe tbody tr th {\n",
       "        vertical-align: top;\n",
       "    }\n",
       "\n",
       "    .dataframe thead th {\n",
       "        text-align: right;\n",
       "    }\n",
       "</style>\n",
       "<table border=\"1\" class=\"dataframe\">\n",
       "  <thead>\n",
       "    <tr style=\"text-align: right;\">\n",
       "      <th></th>\n",
       "      <th>CNPJ</th>\n",
       "      <th>Nome Órgão Superior</th>\n",
       "      <th>Valor Recebido</th>\n",
       "    </tr>\n",
       "  </thead>\n",
       "  <tbody>\n",
       "    <tr>\n",
       "      <th>0</th>\n",
       "      <td>06343056000125</td>\n",
       "      <td>Ministério da Saúde</td>\n",
       "      <td>4,396.46</td>\n",
       "    </tr>\n",
       "    <tr>\n",
       "      <th>1</th>\n",
       "      <td>21310222000180</td>\n",
       "      <td>Ministério da Saúde</td>\n",
       "      <td>9,627.98</td>\n",
       "    </tr>\n",
       "    <tr>\n",
       "      <th>2</th>\n",
       "      <td>66215088000177</td>\n",
       "      <td>Ministério da Saúde</td>\n",
       "      <td>16,030.44</td>\n",
       "    </tr>\n",
       "    <tr>\n",
       "      <th>3</th>\n",
       "      <td>07406373000106</td>\n",
       "      <td>Ministério da Saúde</td>\n",
       "      <td>5,979.66</td>\n",
       "    </tr>\n",
       "    <tr>\n",
       "      <th>4</th>\n",
       "      <td>08091098000141</td>\n",
       "      <td>Ministério da Saúde</td>\n",
       "      <td>176,970.06</td>\n",
       "    </tr>\n",
       "  </tbody>\n",
       "</table>\n",
       "</div>"
      ],
      "text/plain": [
       "             CNPJ  Nome Órgão Superior  Valor Recebido\n",
       "0  06343056000125  Ministério da Saúde        4,396.46\n",
       "1  21310222000180  Ministério da Saúde        9,627.98\n",
       "2  66215088000177  Ministério da Saúde       16,030.44\n",
       "3  07406373000106  Ministério da Saúde        5,979.66\n",
       "4  08091098000141  Ministério da Saúde      176,970.06"
      ]
     },
     "execution_count": 12,
     "metadata": {},
     "output_type": "execute_result"
    }
   ],
   "source": [
    "# Payments data  \n",
    "\n",
    "# Select relevant columns\n",
    "df_payments = df_payments[['Código Favorecido',\n",
    "                           'Nome Órgão Superior',  \n",
    "                           'Valor Recebido']]\n",
    "\n",
    "# Rename columns\n",
    "df_payments = df_payments.rename(columns={'Código Favorecido': 'CNPJ'})\n",
    "\n",
    "df_payments.head()"
   ]
  },
  {
   "cell_type": "code",
   "execution_count": 13,
   "metadata": {
    "jupyter": {
     "source_hidden": true
    }
   },
   "outputs": [
    {
     "data": {
      "text/html": [
       "<div>\n",
       "<style scoped>\n",
       "    .dataframe tbody tr th:only-of-type {\n",
       "        vertical-align: middle;\n",
       "    }\n",
       "\n",
       "    .dataframe tbody tr th {\n",
       "        vertical-align: top;\n",
       "    }\n",
       "\n",
       "    .dataframe thead th {\n",
       "        text-align: right;\n",
       "    }\n",
       "</style>\n",
       "<table border=\"1\" class=\"dataframe\">\n",
       "  <thead>\n",
       "    <tr style=\"text-align: right;\">\n",
       "      <th></th>\n",
       "      <th>NOME ÓRGÃO SUPERIOR</th>\n",
       "      <th>NOME FUNÇÃO</th>\n",
       "      <th>NOME PROGRAMA ORÇAMENTÁRIO</th>\n",
       "      <th>ORÇAMENTO ATUALIZADO (R$)</th>\n",
       "    </tr>\n",
       "  </thead>\n",
       "  <tbody>\n",
       "    <tr>\n",
       "      <th>0</th>\n",
       "      <td>Presidência da República</td>\n",
       "      <td>Segurança pública</td>\n",
       "      <td>PROGRAMA DE GESTAO E MANUTENCAO DO PODER EXECU...</td>\n",
       "      <td>74,808.00</td>\n",
       "    </tr>\n",
       "    <tr>\n",
       "      <th>1</th>\n",
       "      <td>Presidência da República</td>\n",
       "      <td>Administração</td>\n",
       "      <td>BRASIL MODERNIZA</td>\n",
       "      <td>157,152.50</td>\n",
       "    </tr>\n",
       "    <tr>\n",
       "      <th>2</th>\n",
       "      <td>Presidência da República</td>\n",
       "      <td>Administração</td>\n",
       "      <td>BRASIL MODERNIZA</td>\n",
       "      <td>4,304.50</td>\n",
       "    </tr>\n",
       "    <tr>\n",
       "      <th>3</th>\n",
       "      <td>Presidência da República</td>\n",
       "      <td>Administração</td>\n",
       "      <td>BRASIL MODERNIZA</td>\n",
       "      <td>112,720.00</td>\n",
       "    </tr>\n",
       "    <tr>\n",
       "      <th>4</th>\n",
       "      <td>Presidência da República</td>\n",
       "      <td>Segurança pública</td>\n",
       "      <td>PROGRAMA DE GESTAO E MANUTENCAO DO PODER EXECU...</td>\n",
       "      <td>1,777,167.00</td>\n",
       "    </tr>\n",
       "  </tbody>\n",
       "</table>\n",
       "</div>"
      ],
      "text/plain": [
       "        NOME ÓRGÃO SUPERIOR        NOME FUNÇÃO  \\\n",
       "0  Presidência da República  Segurança pública   \n",
       "1  Presidência da República      Administração   \n",
       "2  Presidência da República      Administração   \n",
       "3  Presidência da República      Administração   \n",
       "4  Presidência da República  Segurança pública   \n",
       "\n",
       "                          NOME PROGRAMA ORÇAMENTÁRIO  \\\n",
       "0  PROGRAMA DE GESTAO E MANUTENCAO DO PODER EXECU...   \n",
       "1                                   BRASIL MODERNIZA   \n",
       "2                                   BRASIL MODERNIZA   \n",
       "3                                   BRASIL MODERNIZA   \n",
       "4  PROGRAMA DE GESTAO E MANUTENCAO DO PODER EXECU...   \n",
       "\n",
       "   ORÇAMENTO ATUALIZADO (R$)  \n",
       "0                  74,808.00  \n",
       "1                 157,152.50  \n",
       "2                   4,304.50  \n",
       "3                 112,720.00  \n",
       "4               1,777,167.00  "
      ]
     },
     "execution_count": 13,
     "metadata": {},
     "output_type": "execute_result"
    }
   ],
   "source": [
    "# Budget data\n",
    "\n",
    "# Select relevant columns\n",
    "df_budget = df_budget[['NOME ÓRGÃO SUPERIOR',\n",
    "                       'NOME FUNÇÃO',\n",
    "                       'NOME PROGRAMA ORÇAMENTÁRIO',\n",
    "                       'ORÇAMENTO ATUALIZADO (R$)']]\n",
    "\n",
    "df_budget.head()"
   ]
  },
  {
   "cell_type": "markdown",
   "metadata": {},
   "source": [
    "## Data Quality Checks"
   ]
  },
  {
   "cell_type": "code",
   "execution_count": 14,
   "metadata": {},
   "outputs": [
    {
     "name": "stdout",
     "output_type": "stream",
     "text": [
      "Qty of failed numeric conversions in Payments table: 0\n",
      "Qty of failed numeric conversions in Budgets table: 0\n"
     ]
    }
   ],
   "source": [
    "# Verify if string to numeric conversion failed\n",
    "\n",
    "print(f'Qty of failed numeric conversions in Payments table: {df_payments[\"Valor Recebido\"].isna().sum()}')\n",
    "print(f'Qty of failed numeric conversions in Budgets table: {df_budget[\"ORÇAMENTO ATUALIZADO (R$)\"].isna().sum()}')"
   ]
  },
  {
   "cell_type": "code",
   "execution_count": 15,
   "metadata": {},
   "outputs": [
    {
     "name": "stdout",
     "output_type": "stream",
     "text": [
      "Row count in Companies Activities table\n"
     ]
    },
    {
     "data": {
      "text/plain": [
       "CNPJ              912477\n",
       "RAZAOSOCIAL       912450\n",
       "COD_CNAE          912477\n",
       "UF                912477\n",
       "DESC_SECAO        682842\n",
       "DESC_SUBCLASSE    682842\n",
       "dtype: int64"
      ]
     },
     "execution_count": 15,
     "metadata": {},
     "output_type": "execute_result"
    }
   ],
   "source": [
    "# Verify qty of registries in Companies Activities table - expected to be > 0\n",
    "\n",
    "print('Row count in Companies Activities table')\n",
    "df_cia_cnae.count()"
   ]
  },
  {
   "cell_type": "code",
   "execution_count": 16,
   "metadata": {},
   "outputs": [
    {
     "name": "stdout",
     "output_type": "stream",
     "text": [
      "Row count in Payments table\n"
     ]
    },
    {
     "data": {
      "text/plain": [
       "CNPJ                   655434\n",
       "Nome Órgão Superior    655434\n",
       "Valor Recebido         655434\n",
       "dtype: int64"
      ]
     },
     "execution_count": 16,
     "metadata": {},
     "output_type": "execute_result"
    }
   ],
   "source": [
    "# Verify qty of registries in Payments table - expected to be > 0\n",
    "\n",
    "print('Row count in Payments table')\n",
    "df_payments.count()"
   ]
  },
  {
   "cell_type": "code",
   "execution_count": 17,
   "metadata": {},
   "outputs": [
    {
     "name": "stdout",
     "output_type": "stream",
     "text": [
      "Row count in Budgets table\n"
     ]
    },
    {
     "data": {
      "text/plain": [
       "NOME ÓRGÃO SUPERIOR           24182\n",
       "NOME FUNÇÃO                   24182\n",
       "NOME PROGRAMA ORÇAMENTÁRIO    24182\n",
       "ORÇAMENTO ATUALIZADO (R$)     24182\n",
       "dtype: int64"
      ]
     },
     "execution_count": 17,
     "metadata": {},
     "output_type": "execute_result"
    }
   ],
   "source": [
    "# Verify qty of registries in Budgets table - expected to be > 0\n",
    "\n",
    "print('Row count in Budgets table')\n",
    "df_budget.count()"
   ]
  },
  {
   "cell_type": "markdown",
   "metadata": {},
   "source": [
    "## Data dictionary "
   ]
  },
  {
   "cell_type": "markdown",
   "metadata": {},
   "source": [
    "| Table Name         | Column Name                | Field Description                                                                |\n",
    "|--------------------|----------------------------|----------------------------------------------------------------------------------|\n",
    "| Company Activities | CNPJ                       | Company Registry Code Number (company's unique identifier)                       |\n",
    "| Company Activities | RAZAOSOCIAL                | Company Name (company's name)                                                    |\n",
    "| Company Activities | COD_CNAE                   | Company Activity Code (company's main activity code)                             |\n",
    "| Company Activities | UF                         | Company State Code (company's state abbreviated name)                            |\n",
    "| Company Activities | DESC_SUBCLASSE             | Company Activity Name (company's main activity name)                             |\n",
    "| Company Activities | DESC_SECAO                 | Company Activity Category (company's main activity category)                     |\n",
    "| Payments           | CNPJ                       | Company Registry Code Number (company's unique identifier)                       |\n",
    "| Payments           | Nome Órgão Superior        | Government Department Name (government's department responsible for the payment) |\n",
    "| Payments           | Valor Recebido             | Payed Amount (amount of money in BRL payed to the company)                       |\n",
    "| Budgets            | NOME ÓRGÃO SUPERIOR        | Government Department Name (government's department name)                        |\n",
    "| Budgets            | NOME FUNÇÃO                | Government Department Category Name (government's department's category name)    |\n",
    "| Budgets            | NOME PROGRAMA ORÇAMENTÁRIO | Government Program Name (government's budget program name)                       |\n",
    "| Budgets            | ORÇAMENTO ATUALIZADO (R$)  | Budget Amount (amount of money in BLR allocated to a budget)                     |"
   ]
  },
  {
   "cell_type": "markdown",
   "metadata": {},
   "source": [
    "## Data analysis"
   ]
  },
  {
   "cell_type": "code",
   "execution_count": 18,
   "metadata": {},
   "outputs": [
    {
     "data": {
      "text/html": [
       "<div>\n",
       "<style scoped>\n",
       "    .dataframe tbody tr th:only-of-type {\n",
       "        vertical-align: middle;\n",
       "    }\n",
       "\n",
       "    .dataframe tbody tr th {\n",
       "        vertical-align: top;\n",
       "    }\n",
       "\n",
       "    .dataframe thead th {\n",
       "        text-align: right;\n",
       "    }\n",
       "</style>\n",
       "<table border=\"1\" class=\"dataframe\">\n",
       "  <thead>\n",
       "    <tr style=\"text-align: right;\">\n",
       "      <th></th>\n",
       "      <th>sum</th>\n",
       "    </tr>\n",
       "    <tr>\n",
       "      <th>NOME ÓRGÃO SUPERIOR</th>\n",
       "      <th></th>\n",
       "    </tr>\n",
       "  </thead>\n",
       "  <tbody>\n",
       "    <tr>\n",
       "      <th>Ministério da Economia</th>\n",
       "      <td>3,463,337,217,680.00</td>\n",
       "    </tr>\n",
       "    <tr>\n",
       "      <th>Ministério da Saúde</th>\n",
       "      <td>193,220,320,538.00</td>\n",
       "    </tr>\n",
       "    <tr>\n",
       "      <th>Ministério da Cidadania</th>\n",
       "      <td>168,834,221,395.00</td>\n",
       "    </tr>\n",
       "    <tr>\n",
       "      <th>Ministério da Educação</th>\n",
       "      <td>148,677,319,498.00</td>\n",
       "    </tr>\n",
       "    <tr>\n",
       "      <th>Ministério da Defesa</th>\n",
       "      <td>115,749,138,315.90</td>\n",
       "    </tr>\n",
       "  </tbody>\n",
       "</table>\n",
       "</div>"
      ],
      "text/plain": [
       "                                         sum\n",
       "NOME ÓRGÃO SUPERIOR                         \n",
       "Ministério da Economia  3,463,337,217,680.00\n",
       "Ministério da Saúde       193,220,320,538.00\n",
       "Ministério da Cidadania   168,834,221,395.00\n",
       "Ministério da Educação    148,677,319,498.00\n",
       "Ministério da Defesa      115,749,138,315.90"
      ]
     },
     "execution_count": 18,
     "metadata": {},
     "output_type": "execute_result"
    }
   ],
   "source": [
    "# Get the total budget amount for each governmental department\n",
    "\n",
    "df_budget.groupby(['NOME ÓRGÃO SUPERIOR'])['ORÇAMENTO ATUALIZADO (R$)'].agg(['sum']).sort_values(by = 'sum', ascending = False).head(5)"
   ]
  },
  {
   "cell_type": "code",
   "execution_count": 19,
   "metadata": {},
   "outputs": [
    {
     "data": {
      "text/html": [
       "<div>\n",
       "<style scoped>\n",
       "    .dataframe tbody tr th:only-of-type {\n",
       "        vertical-align: middle;\n",
       "    }\n",
       "\n",
       "    .dataframe tbody tr th {\n",
       "        vertical-align: top;\n",
       "    }\n",
       "\n",
       "    .dataframe thead th {\n",
       "        text-align: right;\n",
       "    }\n",
       "</style>\n",
       "<table border=\"1\" class=\"dataframe\">\n",
       "  <thead>\n",
       "    <tr style=\"text-align: right;\">\n",
       "      <th></th>\n",
       "      <th>sum</th>\n",
       "    </tr>\n",
       "    <tr>\n",
       "      <th>NOME FUNÇÃO</th>\n",
       "      <th></th>\n",
       "    </tr>\n",
       "  </thead>\n",
       "  <tbody>\n",
       "    <tr>\n",
       "      <th>Encargos especiais</th>\n",
       "      <td>2,722,182,294,853.00</td>\n",
       "    </tr>\n",
       "    <tr>\n",
       "      <th>Previdência social</th>\n",
       "      <td>786,469,937,761.00</td>\n",
       "    </tr>\n",
       "    <tr>\n",
       "      <th>Saúde</th>\n",
       "      <td>182,077,249,493.00</td>\n",
       "    </tr>\n",
       "    <tr>\n",
       "      <th>Assistência social</th>\n",
       "      <td>175,814,876,498.00</td>\n",
       "    </tr>\n",
       "    <tr>\n",
       "      <th>Educação</th>\n",
       "      <td>115,179,064,829.00</td>\n",
       "    </tr>\n",
       "  </tbody>\n",
       "</table>\n",
       "</div>"
      ],
      "text/plain": [
       "                                    sum\n",
       "NOME FUNÇÃO                            \n",
       "Encargos especiais 2,722,182,294,853.00\n",
       "Previdência social   786,469,937,761.00\n",
       "Saúde                182,077,249,493.00\n",
       "Assistência social   175,814,876,498.00\n",
       "Educação             115,179,064,829.00"
      ]
     },
     "execution_count": 19,
     "metadata": {},
     "output_type": "execute_result"
    }
   ],
   "source": [
    "# Get the total budget amount for each governmental department category\n",
    "\n",
    "df_budget.groupby(['NOME FUNÇÃO'])['ORÇAMENTO ATUALIZADO (R$)'].agg(['sum']).sort_values(by = 'sum', ascending = False).head(5)"
   ]
  },
  {
   "cell_type": "code",
   "execution_count": 20,
   "metadata": {},
   "outputs": [
    {
     "data": {
      "text/html": [
       "<div>\n",
       "<style scoped>\n",
       "    .dataframe tbody tr th:only-of-type {\n",
       "        vertical-align: middle;\n",
       "    }\n",
       "\n",
       "    .dataframe tbody tr th {\n",
       "        vertical-align: top;\n",
       "    }\n",
       "\n",
       "    .dataframe thead th {\n",
       "        text-align: right;\n",
       "    }\n",
       "</style>\n",
       "<table border=\"1\" class=\"dataframe\">\n",
       "  <thead>\n",
       "    <tr style=\"text-align: right;\">\n",
       "      <th></th>\n",
       "      <th>sum</th>\n",
       "    </tr>\n",
       "    <tr>\n",
       "      <th>NOME PROGRAMA ORÇAMENTÁRIO</th>\n",
       "      <th></th>\n",
       "    </tr>\n",
       "  </thead>\n",
       "  <tbody>\n",
       "    <tr>\n",
       "      <th>OPERACOES ESPECIAIS: REFINANCIAMENTO DA DIVIDA INTERNA</th>\n",
       "      <td>1,399,235,985,553.00</td>\n",
       "    </tr>\n",
       "    <tr>\n",
       "      <th>OPERACOES ESPECIAIS: SERVICO DA DIVIDA INTERNA (JUROS EAMORT</th>\n",
       "      <td>708,548,942,136.00</td>\n",
       "    </tr>\n",
       "    <tr>\n",
       "      <th>NOVA PREVIDENCIA</th>\n",
       "      <td>683,640,617,645.00</td>\n",
       "    </tr>\n",
       "    <tr>\n",
       "      <th>OPERACOES ESPECIAIS: TRANSFERENCIAS CONSTITUCIONAIS E AS DEC</th>\n",
       "      <td>366,232,795,554.00</td>\n",
       "    </tr>\n",
       "    <tr>\n",
       "      <th>PROGRAMA DE GESTAO E MANUTENCAO DO PODER EXECUTIVO</th>\n",
       "      <td>322,588,897,736.89</td>\n",
       "    </tr>\n",
       "    <tr>\n",
       "      <th>ATENCAO ESPECIALIZADA A SAUDE</th>\n",
       "      <td>99,030,141,858.00</td>\n",
       "    </tr>\n",
       "    <tr>\n",
       "      <th>INCLUSAO SOCIAL POR MEIO DO BOLSA FAMILIA E DA ARTICULACAO D</th>\n",
       "      <td>87,047,470,135.00</td>\n",
       "    </tr>\n",
       "    <tr>\n",
       "      <th>OPERACOES ESPECIAIS: OUTROS ENCARGOS ESPECIAIS</th>\n",
       "      <td>68,103,660,251.00</td>\n",
       "    </tr>\n",
       "    <tr>\n",
       "      <th>PROTECAO SOCIAL NO AMBITO DO SISTEMA UNICO DE ASSISTENCIA SO</th>\n",
       "      <td>68,090,699,662.00</td>\n",
       "    </tr>\n",
       "    <tr>\n",
       "      <th>MODERNIZACAO TRABALHISTA E TRABALHO DIGNO</th>\n",
       "      <td>61,745,142,089.00</td>\n",
       "    </tr>\n",
       "  </tbody>\n",
       "</table>\n",
       "</div>"
      ],
      "text/plain": [
       "                                                                    sum\n",
       "NOME PROGRAMA ORÇAMENTÁRIO                                             \n",
       "OPERACOES ESPECIAIS: REFINANCIAMENTO DA DIVIDA ... 1,399,235,985,553.00\n",
       "OPERACOES ESPECIAIS: SERVICO DA DIVIDA INTERNA ...   708,548,942,136.00\n",
       "NOVA PREVIDENCIA                                     683,640,617,645.00\n",
       "OPERACOES ESPECIAIS: TRANSFERENCIAS CONSTITUCIO...   366,232,795,554.00\n",
       "PROGRAMA DE GESTAO E MANUTENCAO DO PODER EXECUTIVO   322,588,897,736.89\n",
       "ATENCAO ESPECIALIZADA A SAUDE                         99,030,141,858.00\n",
       "INCLUSAO SOCIAL POR MEIO DO BOLSA FAMILIA E DA ...    87,047,470,135.00\n",
       "OPERACOES ESPECIAIS: OUTROS ENCARGOS ESPECIAIS        68,103,660,251.00\n",
       "PROTECAO SOCIAL NO AMBITO DO SISTEMA UNICO DE A...    68,090,699,662.00\n",
       "MODERNIZACAO TRABALHISTA E TRABALHO DIGNO             61,745,142,089.00"
      ]
     },
     "execution_count": 20,
     "metadata": {},
     "output_type": "execute_result"
    }
   ],
   "source": [
    "# Get the total budget amount for each governmental program\n",
    "\n",
    "df_budget.groupby(['NOME PROGRAMA ORÇAMENTÁRIO'])['ORÇAMENTO ATUALIZADO (R$)'].agg(['sum']).sort_values(by = 'sum', ascending = False).head(10)"
   ]
  },
  {
   "cell_type": "code",
   "execution_count": 21,
   "metadata": {},
   "outputs": [],
   "source": [
    "# Perform a left join of payments df with companies' data df\n",
    "\n",
    "df_payments_cia = df_payments.merge(df_cia_cnae, on = 'CNPJ', how = 'left')"
   ]
  },
  {
   "cell_type": "code",
   "execution_count": 22,
   "metadata": {},
   "outputs": [
    {
     "data": {
      "text/html": [
       "<div>\n",
       "<style scoped>\n",
       "    .dataframe tbody tr th:only-of-type {\n",
       "        vertical-align: middle;\n",
       "    }\n",
       "\n",
       "    .dataframe tbody tr th {\n",
       "        vertical-align: top;\n",
       "    }\n",
       "\n",
       "    .dataframe thead th {\n",
       "        text-align: right;\n",
       "    }\n",
       "</style>\n",
       "<table border=\"1\" class=\"dataframe\">\n",
       "  <thead>\n",
       "    <tr style=\"text-align: right;\">\n",
       "      <th></th>\n",
       "      <th>sum</th>\n",
       "    </tr>\n",
       "    <tr>\n",
       "      <th>UF</th>\n",
       "      <th></th>\n",
       "    </tr>\n",
       "  </thead>\n",
       "  <tbody>\n",
       "    <tr>\n",
       "      <th>DF</th>\n",
       "      <td>27,809,798,335.72</td>\n",
       "    </tr>\n",
       "    <tr>\n",
       "      <th>SP</th>\n",
       "      <td>4,735,030,288.70</td>\n",
       "    </tr>\n",
       "    <tr>\n",
       "      <th>RJ</th>\n",
       "      <td>4,199,516,226.64</td>\n",
       "    </tr>\n",
       "    <tr>\n",
       "      <th>BA</th>\n",
       "      <td>1,668,749,933.51</td>\n",
       "    </tr>\n",
       "    <tr>\n",
       "      <th>MG</th>\n",
       "      <td>1,411,090,407.72</td>\n",
       "    </tr>\n",
       "  </tbody>\n",
       "</table>\n",
       "</div>"
      ],
      "text/plain": [
       "                 sum\n",
       "UF                  \n",
       "DF 27,809,798,335.72\n",
       "SP  4,735,030,288.70\n",
       "RJ  4,199,516,226.64\n",
       "BA  1,668,749,933.51\n",
       "MG  1,411,090,407.72"
      ]
     },
     "execution_count": 22,
     "metadata": {},
     "output_type": "execute_result"
    }
   ],
   "source": [
    "# Get the amount payed to each state\n",
    "\n",
    "df_payments_cia.groupby(['UF'])['Valor Recebido'].agg(['sum']).sort_values(by = 'sum', ascending = False).head(5)"
   ]
  },
  {
   "cell_type": "code",
   "execution_count": 23,
   "metadata": {},
   "outputs": [
    {
     "data": {
      "text/html": [
       "<div>\n",
       "<style scoped>\n",
       "    .dataframe tbody tr th:only-of-type {\n",
       "        vertical-align: middle;\n",
       "    }\n",
       "\n",
       "    .dataframe tbody tr th {\n",
       "        vertical-align: top;\n",
       "    }\n",
       "\n",
       "    .dataframe thead th {\n",
       "        text-align: right;\n",
       "    }\n",
       "</style>\n",
       "<table border=\"1\" class=\"dataframe\">\n",
       "  <thead>\n",
       "    <tr style=\"text-align: right;\">\n",
       "      <th></th>\n",
       "      <th>sum</th>\n",
       "    </tr>\n",
       "    <tr>\n",
       "      <th>Nome Órgão Superior</th>\n",
       "      <th></th>\n",
       "    </tr>\n",
       "  </thead>\n",
       "  <tbody>\n",
       "    <tr>\n",
       "      <th>Ministério da Saúde</th>\n",
       "      <td>11,277,334,659.88</td>\n",
       "    </tr>\n",
       "    <tr>\n",
       "      <th>Ministério de Minas e Energia</th>\n",
       "      <td>10,227,176,971.96</td>\n",
       "    </tr>\n",
       "    <tr>\n",
       "      <th>Ministério da Educação</th>\n",
       "      <td>10,016,422,135.91</td>\n",
       "    </tr>\n",
       "    <tr>\n",
       "      <th>Ministério da Defesa</th>\n",
       "      <td>8,141,307,461.54</td>\n",
       "    </tr>\n",
       "    <tr>\n",
       "      <th>Ministério do Desenvolvimento Regional</th>\n",
       "      <td>3,928,065,372.80</td>\n",
       "    </tr>\n",
       "  </tbody>\n",
       "</table>\n",
       "</div>"
      ],
      "text/plain": [
       "                                                     sum\n",
       "Nome Órgão Superior                                     \n",
       "Ministério da Saúde                    11,277,334,659.88\n",
       "Ministério de Minas e Energia          10,227,176,971.96\n",
       "Ministério da Educação                 10,016,422,135.91\n",
       "Ministério da Defesa                    8,141,307,461.54\n",
       "Ministério do Desenvolvimento Regional  3,928,065,372.80"
      ]
     },
     "execution_count": 23,
     "metadata": {},
     "output_type": "execute_result"
    }
   ],
   "source": [
    "# Get the amount payed by each governmental department\n",
    "\n",
    "df_payments_cia.groupby(['Nome Órgão Superior'])['Valor Recebido'].agg(['sum']).sort_values(by = 'sum', ascending = False).head(5)"
   ]
  },
  {
   "cell_type": "code",
   "execution_count": 24,
   "metadata": {},
   "outputs": [
    {
     "data": {
      "text/html": [
       "<div>\n",
       "<style scoped>\n",
       "    .dataframe tbody tr th:only-of-type {\n",
       "        vertical-align: middle;\n",
       "    }\n",
       "\n",
       "    .dataframe tbody tr th {\n",
       "        vertical-align: top;\n",
       "    }\n",
       "\n",
       "    .dataframe thead th {\n",
       "        text-align: right;\n",
       "    }\n",
       "</style>\n",
       "<table border=\"1\" class=\"dataframe\">\n",
       "  <thead>\n",
       "    <tr style=\"text-align: right;\">\n",
       "      <th></th>\n",
       "      <th>sum</th>\n",
       "    </tr>\n",
       "    <tr>\n",
       "      <th>DESC_SECAO_SUBCLASSE</th>\n",
       "      <th></th>\n",
       "    </tr>\n",
       "  </thead>\n",
       "  <tbody>\n",
       "    <tr>\n",
       "      <th>ATIVIDADES FINANCEIRAS, DE SEGUROS E SERVIÇOS RELACIONADOS - Bancos múltiplos, com carteira comercial</th>\n",
       "      <td>16,224,598,392.30</td>\n",
       "    </tr>\n",
       "    <tr>\n",
       "      <th>ATIVIDADES FINANCEIRAS, DE SEGUROS E SERVIÇOS RELACIONADOS - Caixas econômicas</th>\n",
       "      <td>11,465,781,274.63</td>\n",
       "    </tr>\n",
       "    <tr>\n",
       "      <th>ADMINISTRAÇÃO PÚBLICA, DEFESA E SEGURIDADE SOCIAL - Administração pública em geral</th>\n",
       "      <td>4,850,058,850.99</td>\n",
       "    </tr>\n",
       "    <tr>\n",
       "      <th>ATIVIDADES FINANCEIRAS, DE SEGUROS E SERVIÇOS RELACIONADOS - Bancos de desenvolvimento</th>\n",
       "      <td>2,204,326,471.17</td>\n",
       "    </tr>\n",
       "    <tr>\n",
       "      <th>ATIVIDADES FINANCEIRAS, DE SEGUROS E SERVIÇOS RELACIONADOS - Bancos comerciais</th>\n",
       "      <td>1,028,812,366.46</td>\n",
       "    </tr>\n",
       "    <tr>\n",
       "      <th>SAÚDE HUMANA E SERVIÇOS SOCIAIS - Outras atividades de atenção à saúde humana não especificadas anteriormente</th>\n",
       "      <td>1,002,814,786.63</td>\n",
       "    </tr>\n",
       "    <tr>\n",
       "      <th>ADMINISTRAÇÃO PÚBLICA, DEFESA E SEGURIDADE SOCIAL - Regulação das atividades de saúde, educação, serviços culturais e outros serviços sociais</th>\n",
       "      <td>934,051,728.93</td>\n",
       "    </tr>\n",
       "    <tr>\n",
       "      <th>OUTRAS ATIVIDADES DE SERVIÇOS - Organismos internacionais e outras instituições extraterritoriais</th>\n",
       "      <td>813,251,006.33</td>\n",
       "    </tr>\n",
       "    <tr>\n",
       "      <th>SAÚDE HUMANA E SERVIÇOS SOCIAIS - Atividades de apoio à gestão de saúde</th>\n",
       "      <td>802,328,319.75</td>\n",
       "    </tr>\n",
       "    <tr>\n",
       "      <th>EDUCAÇÃO - Outras atividades de ensino não especificadas anteriormente</th>\n",
       "      <td>720,568,127.84</td>\n",
       "    </tr>\n",
       "  </tbody>\n",
       "</table>\n",
       "</div>"
      ],
      "text/plain": [
       "                                                                 sum\n",
       "DESC_SECAO_SUBCLASSE                                                \n",
       "ATIVIDADES FINANCEIRAS, DE SEGUROS E SERVIÇOS R... 16,224,598,392.30\n",
       "ATIVIDADES FINANCEIRAS, DE SEGUROS E SERVIÇOS R... 11,465,781,274.63\n",
       "ADMINISTRAÇÃO PÚBLICA, DEFESA E SEGURIDADE SOCI...  4,850,058,850.99\n",
       "ATIVIDADES FINANCEIRAS, DE SEGUROS E SERVIÇOS R...  2,204,326,471.17\n",
       "ATIVIDADES FINANCEIRAS, DE SEGUROS E SERVIÇOS R...  1,028,812,366.46\n",
       "SAÚDE HUMANA E SERVIÇOS SOCIAIS - Outras ativid...  1,002,814,786.63\n",
       "ADMINISTRAÇÃO PÚBLICA, DEFESA E SEGURIDADE SOCI...    934,051,728.93\n",
       "OUTRAS ATIVIDADES DE SERVIÇOS - Organismos inte...    813,251,006.33\n",
       "SAÚDE HUMANA E SERVIÇOS SOCIAIS - Atividades de...    802,328,319.75\n",
       "EDUCAÇÃO - Outras atividades de ensino não espe...    720,568,127.84"
      ]
     },
     "execution_count": 24,
     "metadata": {},
     "output_type": "execute_result"
    }
   ],
   "source": [
    "# Amount payed for each economical activity category\n",
    "\n",
    "df_payments_cia['DESC_SECAO_SUBCLASSE'] = df_payments_cia['DESC_SECAO'] + ' - ' + df_payments_cia['DESC_SUBCLASSE']\n",
    "df_payments_cia.groupby(['DESC_SECAO_SUBCLASSE'])['Valor Recebido'].agg(['sum']).sort_values(by = 'sum', ascending = False).head(10)"
   ]
  },
  {
   "cell_type": "markdown",
   "metadata": {},
   "source": [
    "## Conclusion\n",
    "\n",
    "* The states that received most payments from the federal government in Feb. 2021 were:\n",
    "    * Federal District (approx. 28bi BRL)\n",
    "    * São Paulo State (approx. 4.7bi BRL) \n",
    "    * Rio de Janeiro State (approx. 4.2bi BRL)\n",
    "\n",
    "\n",
    "* The Government Departments that performed most of 2021 February's payments were:\n",
    "    * Health Department (approx. 11bi BRL)\n",
    "    * Energy Department (approx. 10bi BRL) \n",
    "    * Education Department (approx. 10bi BRL)\n",
    "\n",
    "\n",
    "* Which is a bit surprising, given that most of the federal budget is allocated to:\n",
    "    * Economy Department (approx. 3.5tri BRL)\n",
    "    * Health Department (approx. 2bi BRL) \n",
    "    * Citizenship Department (approx. 1.7bi BRL)\n",
    "\n",
    "\n",
    "* More specifically, most of the federal budget is destined to the following programs:\n",
    "    * Special Charges (approx. 2.7tri BRL) \n",
    "        * Out of which, 2 trillion BRL are related to Domestic Debt\n",
    "    * Social Security (approx. 8bi BRL)\n",
    "    * Health (approx. 2bi BRL)\n",
    "\n",
    "* Finally, the companies' categories that received most of the federal payments in Feb. 2021 were:\n",
    "    * Banks (approx. 30bi BRL) - out of which:\n",
    "        * Approx. 16 billion were destined to Retail Banks\n",
    "        * Approx. 11 billion were destined to Savings Banks\n",
    "        * Approx. 2 billion were destined to Development Banks\n",
    "        * Approx. 1 billion were destined to Commercial Banks\n",
    "    * Public Administration (approx. 5bi BRL)\n",
    "    * Social Services (approx. 1bi BRL)\n",
    "    \n",
    "    \n",
    "    "
   ]
  },
  {
   "cell_type": "markdown",
   "metadata": {},
   "source": [
    "## Final remarks\n",
    "\n",
    "* The main tool used in this project was the Pandas dataframe. The datasets used here were small enough to fit in memory, so no further technologies, such as Spark, were needed to support larger files.\n",
    "\n",
    "\n",
    "* Is this notebook needed to be refreshed with new data, the periodicity should be the following:\n",
    "    * The budget data needs to be updated yearly, as it is not supposed to change throughout the year.\n",
    "    * The payments data should be updated monthly, as new payments are made available in this cadence.\n",
    "    * The companies/activities data should also be updated monthly, which is the cadence in which new information is made available in the source. "
   ]
  }
 ],
 "metadata": {
  "kernelspec": {
   "display_name": "Python 3 (ipykernel)",
   "language": "python",
   "name": "python3"
  },
  "language_info": {
   "codemirror_mode": {
    "name": "ipython",
    "version": 3
   },
   "file_extension": ".py",
   "mimetype": "text/x-python",
   "name": "python",
   "nbconvert_exporter": "python",
   "pygments_lexer": "ipython3",
   "version": "3.8.10"
  }
 },
 "nbformat": 4,
 "nbformat_minor": 4
}
